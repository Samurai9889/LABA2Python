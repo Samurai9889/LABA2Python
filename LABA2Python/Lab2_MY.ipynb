{
 "cells": [
  {
   "cell_type": "code",
   "execution_count": null,
   "id": "initial_id",
   "metadata": {
    "collapsed": true
   },
   "outputs": [],
   "source": [
    "'''\n",
    "ПРИКЛАД 1.2\n",
    "\n",
    "https://www.kaggle.com/datasets/tmdb/tmdb-movie-metadata\n",
    "\n",
    "\n",
    "Цей набір даних надає всебічний огляд у світі кінематографу, досліджуючи деталі різних фільмів, \n",
    "які охоплюють різні жанри, режисерів, акторський склад та рік випуску. Він містить інформацію про технічні характеристики фільмів, \n",
    "такі як тривалість, формат відео, аудіо, а також такі фактори, як касові збори, критичні оцінки та нагороди.\n",
    " Крім того, в наборі даних можуть бути включені відомості про сценаристів, саундтреки, технічні ефекти та інші важливі аспекти, що характеризують фільми.\n",
    "'''"
   ]
  },
  {
   "cell_type": "code",
   "outputs": [
    {
     "name": "stdout",
     "output_type": "stream",
     "text": [
      "         budget                                             genres  \\\n",
      "0     237000000  [{\"id\": 28, \"name\": \"Action\"}, {\"id\": 12, \"nam...   \n",
      "1     300000000  [{\"id\": 12, \"name\": \"Adventure\"}, {\"id\": 14, \"...   \n",
      "2     245000000  [{\"id\": 28, \"name\": \"Action\"}, {\"id\": 12, \"nam...   \n",
      "3     250000000  [{\"id\": 28, \"name\": \"Action\"}, {\"id\": 80, \"nam...   \n",
      "4     260000000  [{\"id\": 28, \"name\": \"Action\"}, {\"id\": 12, \"nam...   \n",
      "...         ...                                                ...   \n",
      "4798     220000  [{\"id\": 28, \"name\": \"Action\"}, {\"id\": 80, \"nam...   \n",
      "4799       9000  [{\"id\": 35, \"name\": \"Comedy\"}, {\"id\": 10749, \"...   \n",
      "4800          0  [{\"id\": 35, \"name\": \"Comedy\"}, {\"id\": 18, \"nam...   \n",
      "4801          0                                                 []   \n",
      "4802          0                [{\"id\": 99, \"name\": \"Documentary\"}]   \n",
      "\n",
      "                                               homepage      id  \\\n",
      "0                           http://www.avatarmovie.com/   19995   \n",
      "1          http://disney.go.com/disneypictures/pirates/     285   \n",
      "2           http://www.sonypictures.com/movies/spectre/  206647   \n",
      "3                    http://www.thedarkknightrises.com/   49026   \n",
      "4                  http://movies.disney.com/john-carter   49529   \n",
      "...                                                 ...     ...   \n",
      "4798                                                NaN    9367   \n",
      "4799                                                NaN   72766   \n",
      "4800  http://www.hallmarkchannel.com/signedsealeddel...  231617   \n",
      "4801                        http://shanghaicalling.com/  126186   \n",
      "4802                                                NaN   25975   \n",
      "\n",
      "                                               keywords original_language  \\\n",
      "0     [{\"id\": 1463, \"name\": \"culture clash\"}, {\"id\":...                en   \n",
      "1     [{\"id\": 270, \"name\": \"ocean\"}, {\"id\": 726, \"na...                en   \n",
      "2     [{\"id\": 470, \"name\": \"spy\"}, {\"id\": 818, \"name...                en   \n",
      "3     [{\"id\": 849, \"name\": \"dc comics\"}, {\"id\": 853,...                en   \n",
      "4     [{\"id\": 818, \"name\": \"based on novel\"}, {\"id\":...                en   \n",
      "...                                                 ...               ...   \n",
      "4798  [{\"id\": 5616, \"name\": \"united states\\u2013mexi...                es   \n",
      "4799                                                 []                en   \n",
      "4800  [{\"id\": 248, \"name\": \"date\"}, {\"id\": 699, \"nam...                en   \n",
      "4801                                                 []                en   \n",
      "4802  [{\"id\": 1523, \"name\": \"obsession\"}, {\"id\": 224...                en   \n",
      "\n",
      "                                original_title  \\\n",
      "0                                       Avatar   \n",
      "1     Pirates of the Caribbean: At World's End   \n",
      "2                                      Spectre   \n",
      "3                        The Dark Knight Rises   \n",
      "4                                  John Carter   \n",
      "...                                        ...   \n",
      "4798                               El Mariachi   \n",
      "4799                                 Newlyweds   \n",
      "4800                 Signed, Sealed, Delivered   \n",
      "4801                          Shanghai Calling   \n",
      "4802                         My Date with Drew   \n",
      "\n",
      "                                               overview  popularity  \\\n",
      "0     In the 22nd century, a paraplegic Marine is di...  150.437577   \n",
      "1     Captain Barbossa, long believed to be dead, ha...  139.082615   \n",
      "2     A cryptic message from Bond’s past sends him o...  107.376788   \n",
      "3     Following the death of District Attorney Harve...  112.312950   \n",
      "4     John Carter is a war-weary, former military ca...   43.926995   \n",
      "...                                                 ...         ...   \n",
      "4798  El Mariachi just wants to play his guitar and ...   14.269792   \n",
      "4799  A newlywed couple's honeymoon is upended by th...    0.642552   \n",
      "4800  \"Signed, Sealed, Delivered\" introduces a dedic...    1.444476   \n",
      "4801  When ambitious New York attorney Sam is sent t...    0.857008   \n",
      "4802  Ever since the second grade when he first saw ...    1.929883   \n",
      "\n",
      "                                   production_companies  \\\n",
      "0     [{\"name\": \"Ingenious Film Partners\", \"id\": 289...   \n",
      "1     [{\"name\": \"Walt Disney Pictures\", \"id\": 2}, {\"...   \n",
      "2     [{\"name\": \"Columbia Pictures\", \"id\": 5}, {\"nam...   \n",
      "3     [{\"name\": \"Legendary Pictures\", \"id\": 923}, {\"...   \n",
      "4           [{\"name\": \"Walt Disney Pictures\", \"id\": 2}]   \n",
      "...                                                 ...   \n",
      "4798           [{\"name\": \"Columbia Pictures\", \"id\": 5}]   \n",
      "4799                                                 []   \n",
      "4800  [{\"name\": \"Front Street Pictures\", \"id\": 3958}...   \n",
      "4801                                                 []   \n",
      "4802  [{\"name\": \"rusty bear entertainment\", \"id\": 87...   \n",
      "\n",
      "                                   production_countries release_date  \\\n",
      "0     [{\"iso_3166_1\": \"US\", \"name\": \"United States o...   2009-12-10   \n",
      "1     [{\"iso_3166_1\": \"US\", \"name\": \"United States o...   2007-05-19   \n",
      "2     [{\"iso_3166_1\": \"GB\", \"name\": \"United Kingdom\"...   2015-10-26   \n",
      "3     [{\"iso_3166_1\": \"US\", \"name\": \"United States o...   2012-07-16   \n",
      "4     [{\"iso_3166_1\": \"US\", \"name\": \"United States o...   2012-03-07   \n",
      "...                                                 ...          ...   \n",
      "4798  [{\"iso_3166_1\": \"MX\", \"name\": \"Mexico\"}, {\"iso...   1992-09-04   \n",
      "4799                                                 []   2011-12-26   \n",
      "4800  [{\"iso_3166_1\": \"US\", \"name\": \"United States o...   2013-10-13   \n",
      "4801  [{\"iso_3166_1\": \"US\", \"name\": \"United States o...   2012-05-03   \n",
      "4802  [{\"iso_3166_1\": \"US\", \"name\": \"United States o...   2005-08-05   \n",
      "\n",
      "         revenue  runtime                                   spoken_languages  \\\n",
      "0     2787965087    162.0  [{\"iso_639_1\": \"en\", \"name\": \"English\"}, {\"iso...   \n",
      "1      961000000    169.0           [{\"iso_639_1\": \"en\", \"name\": \"English\"}]   \n",
      "2      880674609    148.0  [{\"iso_639_1\": \"fr\", \"name\": \"Fran\\u00e7ais\"},...   \n",
      "3     1084939099    165.0           [{\"iso_639_1\": \"en\", \"name\": \"English\"}]   \n",
      "4      284139100    132.0           [{\"iso_639_1\": \"en\", \"name\": \"English\"}]   \n",
      "...          ...      ...                                                ...   \n",
      "4798     2040920     81.0      [{\"iso_639_1\": \"es\", \"name\": \"Espa\\u00f1ol\"}]   \n",
      "4799           0     85.0                                                 []   \n",
      "4800           0    120.0           [{\"iso_639_1\": \"en\", \"name\": \"English\"}]   \n",
      "4801           0     98.0           [{\"iso_639_1\": \"en\", \"name\": \"English\"}]   \n",
      "4802           0     90.0           [{\"iso_639_1\": \"en\", \"name\": \"English\"}]   \n",
      "\n",
      "        status                                            tagline  \\\n",
      "0     Released                        Enter the World of Pandora.   \n",
      "1     Released     At the end of the world, the adventure begins.   \n",
      "2     Released                              A Plan No One Escapes   \n",
      "3     Released                                    The Legend Ends   \n",
      "4     Released               Lost in our world, found in another.   \n",
      "...        ...                                                ...   \n",
      "4798  Released  He didn't come looking for trouble, but troubl...   \n",
      "4799  Released  A newlywed couple's honeymoon is upended by th...   \n",
      "4800  Released                                                NaN   \n",
      "4801  Released                           A New Yorker in Shanghai   \n",
      "4802  Released                                                NaN   \n",
      "\n",
      "                                         title  vote_average  vote_count  \n",
      "0                                       Avatar           7.2       11800  \n",
      "1     Pirates of the Caribbean: At World's End           6.9        4500  \n",
      "2                                      Spectre           6.3        4466  \n",
      "3                        The Dark Knight Rises           7.6        9106  \n",
      "4                                  John Carter           6.1        2124  \n",
      "...                                        ...           ...         ...  \n",
      "4798                               El Mariachi           6.6         238  \n",
      "4799                                 Newlyweds           5.9           5  \n",
      "4800                 Signed, Sealed, Delivered           7.0           6  \n",
      "4801                          Shanghai Calling           5.7           7  \n",
      "4802                         My Date with Drew           6.3          16  \n",
      "\n",
      "[4803 rows x 20 columns]\n"
     ]
    }
   ],
   "source": [
    "import pandas as pd \n",
    "import numpy as np\n",
    "film = pd.read_csv('dataset/movies.csv', low_memory=False)\n",
    "print(film)\n",
    "\n",
    "def generate_distribution_sample(data, sample_size, dist_size): \n",
    "    sample_means = []\n",
    "    for i in range(dist_size):\n",
    "        sample = np.random.choice(a = data, size = sample_size) \n",
    "        sample_means.append(np.mean(sample))\n",
    "    return sample_means\n",
    "\n",
    "sample_size = 1000\n",
    "dist_size = 5000\n",
    "sample_means = generate_distribution_sample(film['budget'], sample_size, dist_size)\n"
   ],
   "metadata": {
    "collapsed": false,
    "ExecuteTime": {
     "end_time": "2024-04-02T22:34:44.146900900Z",
     "start_time": "2024-04-02T22:34:41.253764300Z"
    }
   },
   "id": "d7ef26cfb36fc169",
   "execution_count": 1
  },
  {
   "cell_type": "code",
   "outputs": [
    {
     "data": {
      "text/plain": "<Figure size 640x480 with 1 Axes>",
      "image/png": "[encoded data removed]"
     },
     "metadata": {},
     "output_type": "display_data"
    }
   ],
   "source": [
    "import matplotlib.pyplot as plt \n",
    "plt.hist(sample_means, bins=50) \n",
    "plt.xlabel('budget') \n",
    "plt.show()"
   ],
   "metadata": {
    "collapsed": false,
    "ExecuteTime": {
     "end_time": "2024-04-02T22:34:50.392329600Z",
     "start_time": "2024-04-02T22:34:49.362284Z"
    }
   },
   "id": "a52ad80fe4c79cf0",
   "execution_count": 2
  },
  {
   "cell_type": "code",
   "outputs": [
    {
     "name": "stdout",
     "output_type": "stream",
     "text": [
      "conf interval for bootstrap: (26610510.184525, 31635052.226325)\n"
     ]
    }
   ],
   "source": [
    "np.sort(sample_means)\n",
    "lb = np.percentile(sample_means, 2.5)\n",
    "ub = np.percentile(sample_means, 97.5)\n",
    "print(\"conf interval for bootstrap:\", (lb, ub))"
   ],
   "metadata": {
    "collapsed": false,
    "ExecuteTime": {
     "end_time": "2024-04-02T22:34:53.447673400Z",
     "start_time": "2024-04-02T22:34:53.430285Z"
    }
   },
   "id": "d2fe13bec3dc9d0",
   "execution_count": 3
  },
  {
   "cell_type": "code",
   "outputs": [
    {
     "data": {
      "text/plain": "'\\nПРИКЛАД 1.3\\n\\nhttps://www.kaggle.com/datasets/tmdb/tmdb-movie-metadata\\n\\nУ статистиці t-критерій Стьюдента – це набір методів для перевірки гіпотез, \\nякі часто його використовують для перевірки рівності середніх значень вибірки. \\nДля цього потрібно, щоб було обчислена спочатку t-статистика, після чого її \\nпотрібно порівняти з деяким граничним значенням, що дозволить прийняти рішення \\nпро прийняття або відхилення самої гіпотези.\\n\\nT-статистика будується за таким принципом: \\nу чисельнику вказується величина з нульовим математичним очікуванням, \\nа в знаменнику – стандартне відхилення від цієї випадкової величини.\\n\\nАлгоритм перевірки гіпотез побудований за таким принципом: \\nдля початку потрібно, щоб була визначена деяка нульова гіпотеза. \\nУ разі порівняння середніх потрібно прийняти припущення, \\nщо середні значення за двома вибірками рівні. \\nТакож визначається альтернативне їй припущення – нерівність середніх значень. \\nПісля цього обчислюється t-статистика і порівнюється з показником p-value \\n(ймовірність прийняття нульової гіпотези).\\n\\nP-value – це ймовірність прийняття нульової гіпотези за умови, \\nщо справедлива альтернативна гіпотеза. \\nТобто, якщо p-value дуже маленьке значення, \\nто, швидше за все, не відбуваються взагалі якісь випадкові процеси. \\nАле якщо ж p-value досить велике, то ймовірність того, що вибірки, \\nотримані випадковим чином, не мають ніяких зв’язків, дуже значна.\\n\\n\\n'"
     },
     "execution_count": 49,
     "metadata": {},
     "output_type": "execute_result"
    }
   ],
   "source": [
    "'''\n",
    "ПРИКЛАД 1.3\n",
    "\n",
    "https://www.kaggle.com/datasets/tmdb/tmdb-movie-metadata\n",
    "\n",
    "У статистиці t-критерій Стьюдента – це набір методів для перевірки гіпотез, \n",
    "які часто його використовують для перевірки рівності середніх значень вибірки. \n",
    "Для цього потрібно, щоб було обчислена спочатку t-статистика, після чого її \n",
    "потрібно порівняти з деяким граничним значенням, що дозволить прийняти рішення \n",
    "про прийняття або відхилення самої гіпотези.\n",
    "\n",
    "T-статистика будується за таким принципом: \n",
    "у чисельнику вказується величина з нульовим математичним очікуванням, \n",
    "а в знаменнику – стандартне відхилення від цієї випадкової величини.\n",
    "\n",
    "Алгоритм перевірки гіпотез побудований за таким принципом: \n",
    "для початку потрібно, щоб була визначена деяка нульова гіпотеза. \n",
    "У разі порівняння середніх потрібно прийняти припущення, \n",
    "що середні значення за двома вибірками рівні. \n",
    "Також визначається альтернативне їй припущення – нерівність середніх значень. \n",
    "Після цього обчислюється t-статистика і порівнюється з показником p-value \n",
    "(ймовірність прийняття нульової гіпотези).\n",
    "\n",
    "P-value – це ймовірність прийняття нульової гіпотези за умови, \n",
    "що справедлива альтернативна гіпотеза. \n",
    "Тобто, якщо p-value дуже маленьке значення, \n",
    "то, швидше за все, не відбуваються взагалі якісь випадкові процеси. \n",
    "Але якщо ж p-value досить велике, то ймовірність того, що вибірки, \n",
    "отримані випадковим чином, не мають ніяких зв’язків, дуже значна.\n",
    "\n",
    "\n",
    "'''"
   ],
   "metadata": {
    "collapsed": false,
    "ExecuteTime": {
     "end_time": "2024-04-02T22:29:47.871947700Z",
     "start_time": "2024-04-02T22:29:47.822587700Z"
    }
   },
   "id": "1e75f64f454c4c86",
   "execution_count": 49
  },
  {
   "cell_type": "code",
   "outputs": [],
   "source": [
    "import numpy as np \n",
    "from scipy import stats\n",
    "import matplotlib.pyplot as plt \n",
    "import pandas as pd\n",
    "%matplotlib inline\n",
    "set_1 = pd.read_csv('dataset/movies.csv', low_memory=False)\n"
   ],
   "metadata": {
    "collapsed": false,
    "ExecuteTime": {
     "end_time": "2024-04-02T22:35:01.601478700Z",
     "start_time": "2024-04-02T22:35:00.219228Z"
    }
   },
   "id": "3cb1cc5bd3a28670",
   "execution_count": 4
  },
  {
   "cell_type": "code",
   "outputs": [
    {
     "name": "stdout",
     "output_type": "stream",
     "text": [
      "TtestResult(statistic=38.910967417525214, pvalue=1.7643693408989925e-268, df=2999)\n"
     ]
    }
   ],
   "source": [
    "sample = set_1['budget'].sample(n=3000) \n",
    "print(stats.ttest_1samp(sample, 0.05))"
   ],
   "metadata": {
    "collapsed": false,
    "ExecuteTime": {
     "end_time": "2024-04-02T22:35:01.625426700Z",
     "start_time": "2024-04-02T22:35:01.603475600Z"
    }
   },
   "id": "86ea8638f693f960",
   "execution_count": 5
  },
  {
   "cell_type": "code",
   "outputs": [
    {
     "data": {
      "text/plain": "(4803, 20)"
     },
     "execution_count": 6,
     "metadata": {},
     "output_type": "execute_result"
    }
   ],
   "source": [
    "set_1.shape"
   ],
   "metadata": {
    "collapsed": false,
    "ExecuteTime": {
     "end_time": "2024-04-02T22:35:03.243953400Z",
     "start_time": "2024-04-02T22:35:03.223173300Z"
    }
   },
   "id": "2027f22d45605f4",
   "execution_count": 6
  },
  {
   "cell_type": "code",
   "outputs": [
    {
     "name": "stdout",
     "output_type": "stream",
     "text": [
      "TtestResult(statistic=9.462947204563923, pvalue=2.669274333740984e-19, df=398.0)\n"
     ]
    }
   ],
   "source": [
    "print(stats.ttest_ind(set_1['budget'].sample(n=200), \n",
    "                      set_1['vote_count'].sample(n=200)))"
   ],
   "metadata": {
    "collapsed": false,
    "ExecuteTime": {
     "end_time": "2024-04-02T22:35:05.629387300Z",
     "start_time": "2024-04-02T22:35:05.611397900Z"
    }
   },
   "id": "f93e8ee2160fe47d",
   "execution_count": 7
  },
  {
   "cell_type": "code",
   "outputs": [
    {
     "name": "stdout",
     "output_type": "stream",
     "text": [
      "TtestResult(statistic=48.11500010325157, pvalue=0.0, df=8998.0)\n"
     ]
    }
   ],
   "source": [
    "print(stats.ttest_ind(set_1['budget'].sample(n=4500), \n",
    "                      set_1['vote_count'].sample(n=4500)))"
   ],
   "metadata": {
    "collapsed": false,
    "ExecuteTime": {
     "end_time": "2024-04-02T22:35:07.557093800Z",
     "start_time": "2024-04-02T22:35:07.539141900Z"
    }
   },
   "id": "3f1f03de58ed92a1",
   "execution_count": 8
  },
  {
   "cell_type": "code",
   "outputs": [
    {
     "name": "stdout",
     "output_type": "stream",
     "text": [
      "TtestResult(statistic=19.21969564644421, pvalue=2.4167090776347077e-78, df=3499)\n"
     ]
    }
   ],
   "source": [
    "control = set_1['revenue'].sample(n=3500)\n",
    "treatment = set_1['budget'].sample(n=3500)\n",
    "print(stats.ttest_rel(control, treatment))\n"
   ],
   "metadata": {
    "collapsed": false,
    "ExecuteTime": {
     "end_time": "2024-04-02T22:35:10.388950700Z",
     "start_time": "2024-04-02T22:35:10.370819700Z"
    }
   },
   "id": "fa83ef61b775e6ab",
   "execution_count": 9
  },
  {
   "cell_type": "code",
   "outputs": [],
   "source": [],
   "metadata": {
    "collapsed": false
   },
   "id": "aa398a8eab6f1be4"
  }
 ],
 "metadata": {
  "kernelspec": {
   "display_name": "Python 3",
   "language": "python",
   "name": "python3"
  },
  "language_info": {
   "codemirror_mode": {
    "name": "ipython",
    "version": 2
   },
   "file_extension": ".py",
   "mimetype": "text/x-python",
   "name": "python",
   "nbconvert_exporter": "python",
   "pygments_lexer": "ipython2",
   "version": "2.7.6"
  }
 },
 "nbformat": 4,
 "nbformat_minor": 5
}
